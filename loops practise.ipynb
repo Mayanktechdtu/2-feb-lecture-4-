{
 "cells": [
  {
   "cell_type": "code",
   "execution_count": 1,
   "id": "f261eef5-d7a6-42a2-81ed-098457c2cab7",
   "metadata": {},
   "outputs": [],
   "source": [
    "#loops practice"
   ]
  },
  {
   "cell_type": "code",
   "execution_count": 3,
   "id": "76af49ce-3ffb-4512-bcda-55f16a0fb869",
   "metadata": {},
   "outputs": [
    {
     "name": "stdout",
     "output_type": "stream",
     "text": [
      "1 <class 'int'>\n",
      "2 <class 'int'>\n",
      "3 <class 'int'>\n",
      "4 <class 'int'>\n",
      "56 <class 'int'>\n",
      "may <class 'str'>\n"
     ]
    }
   ],
   "source": [
    "l=[1,2,3,4,56,\"may\"]\n",
    "for i in l:\n",
    "    print(i,type(i))\n",
    "    "
   ]
  },
  {
   "cell_type": "code",
   "execution_count": 6,
   "id": "121f73b6-78a9-43f9-b87e-e83a14691d37",
   "metadata": {},
   "outputs": [
    {
     "name": "stdout",
     "output_type": "stream",
     "text": [
      "1\n",
      "2\n",
      "3\n",
      "4\n",
      "56\n",
      "may\n",
      "anything\n"
     ]
    }
   ],
   "source": [
    "l=[1,2,3,4,56,\"may\"]\n",
    "for i in l:\n",
    "    print(i)\n",
    "else:\n",
    "    print(\"anything\") #if loop able to coml.itselft than only else work"
   ]
  },
  {
   "cell_type": "code",
   "execution_count": 8,
   "id": "a308f737-c119-479d-a727-12dfcff67dda",
   "metadata": {},
   "outputs": [
    {
     "name": "stdout",
     "output_type": "stream",
     "text": [
      "1\n",
      "2\n",
      "3\n",
      "4\n",
      "56\n"
     ]
    }
   ],
   "source": [
    "l=[1,2,3,4,56,\"may\"]\n",
    "for i in l:\n",
    "    if i==\"may\":\n",
    "        break #break\n",
    "    print(i)\n",
    "    "
   ]
  },
  {
   "cell_type": "code",
   "execution_count": 13,
   "id": "8a08ba1c-bf38-4c1e-98f0-593303a2ce53",
   "metadata": {},
   "outputs": [
    {
     "name": "stdout",
     "output_type": "stream",
     "text": [
      "1\n",
      "2\n",
      "3\n",
      "4\n",
      "56\n"
     ]
    }
   ],
   "source": [
    "l=[1,2,3,4,56,\"may\"]\n",
    "for i in l:\n",
    "    if i==\"may\":\n",
    "        break #break\n",
    "    print(i)\n",
    "else:\n",
    "    print(\"good\")\n",
    "#now in this else not work as loop is not comp. due to break statement\n",
    "    "
   ]
  },
  {
   "cell_type": "code",
   "execution_count": 11,
   "id": "e7da8d92-9228-4d1a-ac48-4139a52f10f9",
   "metadata": {},
   "outputs": [
    {
     "name": "stdout",
     "output_type": "stream",
     "text": [
      "1\n",
      "2\n",
      "3\n",
      "56\n",
      "may\n"
     ]
    }
   ],
   "source": [
    "l=[1,2,3,4,56,\"may\"]\n",
    "for i in l:\n",
    "    if i==4:\n",
    "        continue #it skip that particular value\n",
    "    print(i)\n",
    "    "
   ]
  },
  {
   "cell_type": "code",
   "execution_count": 15,
   "id": "f9030141-00de-4f65-b510-3a125bff2fe1",
   "metadata": {},
   "outputs": [
    {
     "name": "stdout",
     "output_type": "stream",
     "text": [
      "1\n",
      "2\n",
      "3\n",
      "56\n",
      "may\n",
      "yoyo\n"
     ]
    }
   ],
   "source": [
    "l=[1,2,3,4,56,\"may\"]\n",
    "for i in l:\n",
    "    if i==4:\n",
    "        continue #it skip that particular value\n",
    "    print(i)\n",
    "else:\n",
    "    print(\"yoyo\")\n",
    "#in cont. statement else work as loop is complete"
   ]
  },
  {
   "cell_type": "code",
   "execution_count": 22,
   "id": "790abbf5-57f7-45c6-9fc4-e3e56b8ba3d9",
   "metadata": {},
   "outputs": [
    {
     "data": {
      "text/plain": [
       "range(0, 6)"
      ]
     },
     "execution_count": 22,
     "metadata": {},
     "output_type": "execute_result"
    }
   ],
   "source": [
    "range(6) #it give range"
   ]
  },
  {
   "cell_type": "code",
   "execution_count": 23,
   "id": "0437781d-22ba-4963-9a42-ae67416b5761",
   "metadata": {},
   "outputs": [
    {
     "data": {
      "text/plain": [
       "[0, 1, 2, 3, 4, 5]"
      ]
     },
     "execution_count": 23,
     "metadata": {},
     "output_type": "execute_result"
    }
   ],
   "source": [
    "list(range(6))#create 1 less than upper bound"
   ]
  },
  {
   "cell_type": "code",
   "execution_count": 21,
   "id": "72fea8ce-daec-4eb3-993c-01ab55f0dd00",
   "metadata": {},
   "outputs": [
    {
     "data": {
      "text/plain": [
       "[1, 3, 5]"
      ]
     },
     "execution_count": 21,
     "metadata": {},
     "output_type": "execute_result"
    }
   ],
   "source": [
    "list(range(1,6,2)) #same like slicing"
   ]
  },
  {
   "cell_type": "code",
   "execution_count": 24,
   "id": "16504156-b6c8-4733-b89f-43b5808ec2d4",
   "metadata": {},
   "outputs": [
    {
     "data": {
      "text/plain": [
       "[1, 2, 3, 4, 56, 'may']"
      ]
     },
     "execution_count": 24,
     "metadata": {},
     "output_type": "execute_result"
    }
   ],
   "source": [
    "l"
   ]
  },
  {
   "cell_type": "code",
   "execution_count": 26,
   "id": "2f10141d-70eb-459e-bf60-c9fea291a064",
   "metadata": {},
   "outputs": [
    {
     "name": "stdout",
     "output_type": "stream",
     "text": [
      "0\n",
      "1\n",
      "2\n",
      "3\n",
      "4\n",
      "5\n"
     ]
    }
   ],
   "source": [
    "for i in range(0,len(l)): #this code gives index in loop\n",
    "               print(i)"
   ]
  },
  {
   "cell_type": "code",
   "execution_count": 28,
   "id": "678d3a2b-9bb6-4c76-8b47-50d9ac8592f3",
   "metadata": {},
   "outputs": [
    {
     "name": "stdout",
     "output_type": "stream",
     "text": [
      "1\n",
      "2\n",
      "3\n",
      "4\n",
      "56\n",
      "may\n"
     ]
    }
   ],
   "source": [
    "for i in range(0,len(l)): #this code gives index in loop\n",
    "               print(l[i]) #same like slice l[0] gives value at that index"
   ]
  },
  {
   "cell_type": "code",
   "execution_count": 29,
   "id": "2b48cc28-1cfe-45c1-94b6-f1ff7b857120",
   "metadata": {},
   "outputs": [
    {
     "data": {
      "text/plain": [
       "[1, 2, 3, 4, 56, 'may']"
      ]
     },
     "execution_count": 29,
     "metadata": {},
     "output_type": "execute_result"
    }
   ],
   "source": [
    "l"
   ]
  },
  {
   "cell_type": "code",
   "execution_count": 33,
   "id": "3b0b28e4-abaa-4e06-a422-bc517fa5fcea",
   "metadata": {},
   "outputs": [
    {
     "data": {
      "text/plain": [
       "[1, 2, 3, 4, 455]"
      ]
     },
     "execution_count": 33,
     "metadata": {},
     "output_type": "execute_result"
    }
   ],
   "source": [
    "l1=[1,2,3,4,455] #find sum of all\n",
    "l1"
   ]
  },
  {
   "cell_type": "code",
   "execution_count": 35,
   "id": "c82ad2ad-904e-459e-b89c-2b02203fa0e3",
   "metadata": {},
   "outputs": [
    {
     "data": {
      "text/plain": [
       "465"
      ]
     },
     "execution_count": 35,
     "metadata": {},
     "output_type": "execute_result"
    }
   ],
   "source": [
    "sum(l1)"
   ]
  },
  {
   "cell_type": "code",
   "execution_count": 38,
   "id": "3cf17263-94ff-4272-992c-66eb0799078b",
   "metadata": {},
   "outputs": [
    {
     "data": {
      "text/plain": [
       "465"
      ]
     },
     "execution_count": 38,
     "metadata": {},
     "output_type": "execute_result"
    }
   ],
   "source": [
    "result=0  #logic behind sum function\n",
    "for i in l1:   #IMPORTANT\n",
    "    result=result+i\n",
    "result"
   ]
  },
  {
   "cell_type": "code",
   "execution_count": 39,
   "id": "03a2acf3-771d-4f14-8e39-37286de159e8",
   "metadata": {},
   "outputs": [
    {
     "name": "stdout",
     "output_type": "stream",
     "text": [
      "m\n",
      "a\n",
      "y\n",
      "a\n",
      "n\n",
      "k\n"
     ]
    }
   ],
   "source": [
    "a=\"mayank\"\n",
    "for i in a:\n",
    "    print(i)"
   ]
  },
  {
   "cell_type": "code",
   "execution_count": 40,
   "id": "4533e397-b122-49be-a0bb-72c0e329db67",
   "metadata": {},
   "outputs": [
    {
     "data": {
      "text/plain": [
       "dict_keys(['may', 'ss', 'aaaa'])"
      ]
     },
     "execution_count": 40,
     "metadata": {},
     "output_type": "execute_result"
    }
   ],
   "source": [
    "b={\"may\":\"a\",\"ss\":\"aa\",\"aaaa\":\"ww\"}\n",
    "b.keys()"
   ]
  },
  {
   "cell_type": "code",
   "execution_count": 44,
   "id": "c9354865-87bc-47a8-88aa-60452ec2697b",
   "metadata": {},
   "outputs": [
    {
     "ename": "KeyError",
     "evalue": "'aa'",
     "output_type": "error",
     "traceback": [
      "\u001b[0;31m---------------------------------------------------------------------------\u001b[0m",
      "\u001b[0;31mKeyError\u001b[0m                                  Traceback (most recent call last)",
      "Cell \u001b[0;32mIn[44], line 2\u001b[0m\n\u001b[1;32m      1\u001b[0m b[\u001b[38;5;124m\"\u001b[39m\u001b[38;5;124mmay\u001b[39m\u001b[38;5;124m\"\u001b[39m]\n\u001b[0;32m----> 2\u001b[0m \u001b[43mb\u001b[49m\u001b[43m[\u001b[49m\u001b[38;5;124;43m\"\u001b[39;49m\u001b[38;5;124;43maa\u001b[39;49m\u001b[38;5;124;43m\"\u001b[39;49m\u001b[43m]\u001b[49m\n",
      "\u001b[0;31mKeyError\u001b[0m: 'aa'"
     ]
    }
   ],
   "source": [
    "b[\"may\"]\n",
    "b[\"aa\"] #in dict you cant call value"
   ]
  },
  {
   "cell_type": "code",
   "execution_count": 42,
   "id": "231e13c2-c434-4afb-bd76-a3956406324f",
   "metadata": {},
   "outputs": [
    {
     "name": "stdout",
     "output_type": "stream",
     "text": [
      "a\n",
      "aa\n",
      "ww\n"
     ]
    }
   ],
   "source": [
    "#using loop\n",
    "for i in b.keys():\n",
    "    print(b[i])"
   ]
  },
  {
   "cell_type": "code",
   "execution_count": 46,
   "id": "6646889f-2ba0-47b6-ac7b-8d38819f3f71",
   "metadata": {},
   "outputs": [
    {
     "name": "stdout",
     "output_type": "stream",
     "text": [
      "may\n",
      "ss\n",
      "aaaa\n"
     ]
    }
   ],
   "source": [
    "#using loop\n",
    "for i in b.keys():\n",
    "    print(i)"
   ]
  },
  {
   "cell_type": "code",
   "execution_count": 47,
   "id": "3c349186-dd86-4ecf-95c8-9c1590763fe7",
   "metadata": {},
   "outputs": [
    {
     "name": "stdout",
     "output_type": "stream",
     "text": [
      "a\n",
      "aa\n",
      "ww\n"
     ]
    }
   ],
   "source": [
    "#using loop\n",
    "for i in b.values():\n",
    "    print(i)"
   ]
  },
  {
   "cell_type": "code",
   "execution_count": 45,
   "id": "20df39e2-c967-41f8-8c7f-ecf8c6d37dfd",
   "metadata": {},
   "outputs": [
    {
     "ename": "KeyError",
     "evalue": "'a'",
     "output_type": "error",
     "traceback": [
      "\u001b[0;31m---------------------------------------------------------------------------\u001b[0m",
      "\u001b[0;31mKeyError\u001b[0m                                  Traceback (most recent call last)",
      "Cell \u001b[0;32mIn[45], line 3\u001b[0m\n\u001b[1;32m      1\u001b[0m \u001b[38;5;66;03m#using loop\u001b[39;00m\n\u001b[1;32m      2\u001b[0m \u001b[38;5;28;01mfor\u001b[39;00m i \u001b[38;5;129;01min\u001b[39;00m b\u001b[38;5;241m.\u001b[39mvalues():\n\u001b[0;32m----> 3\u001b[0m     \u001b[38;5;28mprint\u001b[39m(\u001b[43mb\u001b[49m\u001b[43m[\u001b[49m\u001b[43mi\u001b[49m\u001b[43m]\u001b[49m) \u001b[38;5;66;03m#in dict u cant call values\u001b[39;00m\n",
      "\u001b[0;31mKeyError\u001b[0m: 'a'"
     ]
    }
   ],
   "source": [
    "#using loop\n",
    "for i in b.values():\n",
    "    print(b[i]) #in dict u cant call values"
   ]
  },
  {
   "cell_type": "code",
   "execution_count": 51,
   "id": "4e4d7174-f816-49c1-a0a6-870aa9b4a2cf",
   "metadata": {},
   "outputs": [
    {
     "name": "stdout",
     "output_type": "stream",
     "text": [
      "('may', 'a')\n",
      "('ss', 'aa')\n",
      "('aaaa', 'ww')\n"
     ]
    }
   ],
   "source": [
    "\n",
    "for i in b.items():\n",
    "    print(i) "
   ]
  },
  {
   "cell_type": "code",
   "execution_count": null,
   "id": "2fd142aa-6007-4cf9-a102-03169d84b4d1",
   "metadata": {},
   "outputs": [],
   "source": []
  },
  {
   "cell_type": "code",
   "execution_count": null,
   "id": "38736e0b-1088-4c25-9ac4-8a30dc91bd8b",
   "metadata": {},
   "outputs": [],
   "source": []
  }
 ],
 "metadata": {
  "kernelspec": {
   "display_name": "Python 3 (ipykernel)",
   "language": "python",
   "name": "python3"
  },
  "language_info": {
   "codemirror_mode": {
    "name": "ipython",
    "version": 3
   },
   "file_extension": ".py",
   "mimetype": "text/x-python",
   "name": "python",
   "nbconvert_exporter": "python",
   "pygments_lexer": "ipython3",
   "version": "3.10.8"
  }
 },
 "nbformat": 4,
 "nbformat_minor": 5
}
